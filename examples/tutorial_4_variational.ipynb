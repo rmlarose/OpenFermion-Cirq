{
 "cells": [
  {
   "cell_type": "markdown",
   "metadata": {},
   "source": [
    "# Tutorial IV: Constructing variational algorithms"
   ]
  },
  {
   "cell_type": "markdown",
   "metadata": {},
   "source": [
    "Variational quantum algorithms are a broad set of methods which involve optimizing a parameterized quantum circuit ansatz applied to some initial state (called the \"reference\") in order to minimize a cost function defined with respect to the output state. In the context of quantum simulation, very often the goal is to prepare ground states and the cost function is the expectation value of a Hamiltonian. Thus, if we define the reference (initial state) as $\\lvert \\psi\\rangle$, the Hamiltonian as $H$ and the parameterized quantum circuit as $U(\\vec{\\theta})$ where $\\vec{\\theta}$ are the varaitional parameters, then the goal is to minimize the cost function\n",
    "$$\n",
    "E(\\vec \\theta) =  \\langle \\psi \\rvert\n",
    "U^\\dagger(\\vec{\\theta}) H U(\\vec{\\theta})\n",
    "\\lvert \\psi\\rangle.\n",
    "$$\n",
    "A classical optimization algorithm can be used to find the $\\vec{\\theta}$ that minimizes the value of the expression. The performance of a variational algorithm depends crucially on the choice of ansatz circuit $U(\\vec{\\theta})$, the choice of reference, and the strategy for choosing the initial parameters $\\vec{\\theta}$ since typically global optimizing is challenging and one needs to begin reasonably close to the intended state. One possibility is to use an ansatz of the form\n",
    "$$\n",
    "U(\\vec{\\theta}) = \\prod_j \\exp(-i \\theta_j H_j)\n",
    "$$\n",
    "where the $H = \\sum_j H_j$. This ansatz is inspired by a low Trotter-number Trotter-Suzuki based approximation to adiabatic state preparation. OpenFermion-Cirq contains routines for constructing ansatzes of this form which use as templates the Trotter step algorithms implemented in the `trotter` module."
   ]
  },
  {
   "cell_type": "markdown",
   "metadata": {},
   "source": [
    "### Jellium with a Linear Swap Network\n",
    "\n",
    "We will first demonstrate the construction and optimization of a variational ansatz for a jellium Hamiltonian. We will use an ansatz based on the `LINEAR_SWAP_NETWORK` Trotter step, which takes as input a DiagonalCoulombHamiltonian. Later, we will show how one can create a custom circuit ansatz and apply it to the H$_2$ molecule in a minimal basis."
   ]
  },
  {
   "cell_type": "code",
   "execution_count": 1,
   "metadata": {
    "scrolled": false
   },
   "outputs": [
    {
     "name": "stdout",
     "output_type": "stream",
     "text": [
      "The ground energy of the jellium Hamiltonian at 2 electrons is -0.26976724391725637\n",
      "Created a variational ansatz with the following circuit:\n",
      "0       1            2         3\n",
      "│       │            │         │\n",
      "XXYY────XXYY^T_0_1_0 XXYY──────XXYY^T_2_3_0\n",
      "│       │            │         │\n",
      "@───────@^V_0_1_0    @─────────@^V_2_3_0\n",
      "│       │            │         │\n",
      "×ᶠ──────×ᶠ           ×ᶠ────────×ᶠ\n",
      "│       │            │         │\n",
      "│       @────────────@^V_0_3_0 │\n",
      "│       │            │         │\n",
      "│       ×ᶠ───────────×ᶠ        │\n",
      "│       │            │         │\n",
      "XXYY────XXYY^T_1_3_0 XXYY──────XXYY^T_0_2_0\n",
      "│       │            │         │\n",
      "@───────@^V_1_3_0    @─────────@^V_0_2_0\n",
      "│       │            │         │\n",
      "×ᶠ──────×ᶠ           ×ᶠ────────×ᶠ\n",
      "│       │            │         │\n",
      "Z^U_3_0 @────────────@^V_1_2_0 Z^U_0_0\n",
      "│       │            │         │\n",
      "│       ×ᶠ───────────×ᶠ        │\n",
      "│       │            │         │\n",
      "│       Z^U_2_0      Z^U_1_0   │\n",
      "│       │            │         │\n",
      "│       @────────────@^V_1_2_0 │\n",
      "│       │            │         │\n",
      "│       ×ᶠ───────────×ᶠ        │\n",
      "│       │            │         │\n",
      "@───────@^V_1_3_0    @─────────@^V_0_2_0\n",
      "│       │            │         │\n",
      "XXYY────XXYY^T_1_3_0 XXYY──────XXYY^T_0_2_0\n",
      "│       │            │         │\n",
      "×ᶠ──────×ᶠ           ×ᶠ────────×ᶠ\n",
      "│       │            │         │\n",
      "│       @────────────@^V_0_3_0 │\n",
      "│       │            │         │\n",
      "│       ×ᶠ───────────×ᶠ        │\n",
      "│       │            │         │\n",
      "@───────@^V_0_1_0    @─────────@^V_2_3_0\n",
      "│       │            │         │\n",
      "XXYY────XXYY^T_0_1_0 XXYY──────XXYY^T_2_3_0\n",
      "│       │            │         │\n",
      "×ᶠ──────×ᶠ           ×ᶠ────────×ᶠ\n",
      "│       │            │         │\n"
     ]
    }
   ],
   "source": [
    "import openfermion\n",
    "import openfermioncirq\n",
    "\n",
    "# Set parameters of jellium model.\n",
    "wigner_seitz_radius = 5. # Radius per electron in Bohr radii.\n",
    "n_dimensions = 2 # Number of spatial dimensions.\n",
    "grid_length = 2 # Number of grid points in each dimension.\n",
    "spinless = True # Whether to include spin degree of freedom or not.\n",
    "n_electrons = 2 # Number of electrons.\n",
    "\n",
    "# Figure out length scale based on Wigner-Seitz radius and construct a basis grid.\n",
    "length_scale = openfermion.wigner_seitz_length_scale(\n",
    "    wigner_seitz_radius, n_electrons, n_dimensions)\n",
    "grid = openfermion.Grid(n_dimensions, grid_length, length_scale)\n",
    "\n",
    "# Initialize the model and compute its ground energy in the correct particle number manifold\n",
    "fermion_hamiltonian = openfermion.jellium_model(grid, spinless=spinless, plane_wave=False)\n",
    "hamiltonian_sparse = openfermion.get_sparse_operator(fermion_hamiltonian)\n",
    "ground_energy, _ = openfermion.jw_get_ground_state_at_particle_number(\n",
    "    hamiltonian_sparse, n_electrons)\n",
    "print('The ground energy of the jellium Hamiltonian at {} electrons is {}'.format(\n",
    "    n_electrons, ground_energy))\n",
    "\n",
    "# Convert to DiagonalCoulombHamiltonian type.\n",
    "hamiltonian = openfermion.get_diagonal_coulomb_hamiltonian(fermion_hamiltonian)\n",
    "\n",
    "# Define the objective function\n",
    "objective = openfermioncirq.HamiltonianObjective(hamiltonian)\n",
    "\n",
    "# Create a swap network Trotter ansatz.\n",
    "iterations = 1  # This is the number of Trotter steps to use in the ansatz.\n",
    "ansatz = openfermioncirq.SwapNetworkTrotterAnsatz(\n",
    "    hamiltonian,\n",
    "    iterations=iterations)\n",
    "\n",
    "print('Created a variational ansatz with the following circuit:')\n",
    "print(ansatz.circuit.to_text_diagram(transpose=True))"
   ]
  },
  {
   "cell_type": "markdown",
   "metadata": {},
   "source": [
    "In the last lines above we instantiated a class called SwapNetworkTrotterAnsatz which inherits from the general VariationalAnsatz class in OpenFermion-Cirq. A VariationalAnsatz is essentially a parameterized circuit that one constructs so that parameters can be supplied symbolically. This way one does not (necessarily) need to recompile the circuit each time the variational parameters change. We also instantiated a HamiltonianObjective which represents the objective function being the expectation value of our Hamiltonian.\n",
    "\n",
    "Optimizing an ansatz requires the creation of a VariationalStudy object. A VariationalStudy is responsible for performing optimizations and storing the results. By default, it evaluates parameters by simulating the quantum circuit and computing the objective function, in this case the expectation value of the Hamiltonian, on the final state. It includes an optional state preparation circuit to be applied prior to the ansatz circuit. For this example, we will prepare the initial state as an eigenstate of the one-body operator of the Hamiltonian. Since the one-body operator is a quadratic Hamiltonian, its eigenstates can be prepared using the `prepare_gaussian_state` method. The SwapNetworkTrotterAnsatz class also includes a default setting of parameters which is inspired by the idea of state preparation by adiabatic evolution from the mean-field state."
   ]
  },
  {
   "cell_type": "code",
   "execution_count": 2,
   "metadata": {
    "scrolled": false
   },
   "outputs": [
    {
     "name": "stdout",
     "output_type": "stream",
     "text": [
      "Created a variational study with 4 qubits and 14 parameters\n",
      "The value of the objective with default initial parameters is -0.19655859516666632\n",
      "The circuit of the study is\n",
      "0       1            2          3\n",
      "│       │            │          │\n",
      "X       X            │          │\n",
      "│       │            │          │\n",
      "│       YXXY─────────#2^0.995   │\n",
      "│       │            │          │\n",
      "YXXY────#2^-0.502    Z^(0)      │\n",
      "│       │            │          │\n",
      "│       Z^(0)        YXXY───────#2^-0.498\n",
      "│       │            │          │\n",
      "│       YXXY─────────#2^0.00482 Z^0.0\n",
      "│       │            │          │\n",
      "│       │            Z^(0)      │\n",
      "│       │            │          │\n",
      "XXYY────XXYY^T_0_1_0 XXYY───────XXYY^T_2_3_0\n",
      "│       │            │          │\n",
      "@───────@^V_0_1_0    @──────────@^V_2_3_0\n",
      "│       │            │          │\n",
      "×ᶠ──────×ᶠ           ×ᶠ─────────×ᶠ\n",
      "│       │            │          │\n",
      "│       @────────────@^V_0_3_0  │\n",
      "│       │            │          │\n",
      "│       ×ᶠ───────────×ᶠ         │\n",
      "│       │            │          │\n",
      "XXYY────XXYY^T_1_3_0 XXYY───────XXYY^T_0_2_0\n",
      "│       │            │          │\n",
      "@───────@^V_1_3_0    @──────────@^V_0_2_0\n",
      "│       │            │          │\n",
      "×ᶠ──────×ᶠ           ×ᶠ─────────×ᶠ\n",
      "│       │            │          │\n",
      "Z^U_3_0 @────────────@^V_1_2_0  Z^U_0_0\n",
      "│       │            │          │\n",
      "│       ×ᶠ───────────×ᶠ         │\n",
      "│       │            │          │\n",
      "│       Z^U_2_0      Z^U_1_0    │\n",
      "│       │            │          │\n",
      "│       @────────────@^V_1_2_0  │\n",
      "│       │            │          │\n",
      "│       ×ᶠ───────────×ᶠ         │\n",
      "│       │            │          │\n",
      "@───────@^V_1_3_0    @──────────@^V_0_2_0\n",
      "│       │            │          │\n",
      "XXYY────XXYY^T_1_3_0 XXYY───────XXYY^T_0_2_0\n",
      "│       │            │          │\n",
      "×ᶠ──────×ᶠ           ×ᶠ─────────×ᶠ\n",
      "│       │            │          │\n",
      "│       @────────────@^V_0_3_0  │\n",
      "│       │            │          │\n",
      "│       ×ᶠ───────────×ᶠ         │\n",
      "│       │            │          │\n",
      "@───────@^V_0_1_0    @──────────@^V_2_3_0\n",
      "│       │            │          │\n",
      "XXYY────XXYY^T_0_1_0 XXYY───────XXYY^T_2_3_0\n",
      "│       │            │          │\n",
      "×ᶠ──────×ᶠ           ×ᶠ─────────×ᶠ\n",
      "│       │            │          │\n"
     ]
    }
   ],
   "source": [
    "# Use preparation circuit for mean-field state\n",
    "import cirq\n",
    "preparation_circuit = cirq.Circuit.from_ops(\n",
    "    openfermioncirq.prepare_gaussian_state(\n",
    "        ansatz.qubits,\n",
    "        openfermion.QuadraticHamiltonian(hamiltonian.one_body),\n",
    "        occupied_orbitals=range(n_electrons)))\n",
    "\n",
    "# Create a Hamiltonian variational study\n",
    "study = openfermioncirq.VariationalStudy(\n",
    "    'jellium_study',\n",
    "    ansatz,\n",
    "    objective,\n",
    "    preparation_circuit=preparation_circuit)\n",
    "\n",
    "print(\"Created a variational study with {} qubits and {} parameters\".format(\n",
    "    len(study.ansatz.qubits), study.num_params))\n",
    "\n",
    "print(\"The value of the objective with default initial parameters is {}\".format(\n",
    "    study.value_of(ansatz.default_initial_params())))\n",
    "\n",
    "print(\"The circuit of the study is\")\n",
    "print(study.circuit.to_text_diagram(transpose=True))"
   ]
  },
  {
   "cell_type": "markdown",
   "metadata": {},
   "source": [
    "As we can see, our initial guess isn't particularly close to the target energy. Optimizing the study requires the creation of an OptimizationParams object. The most import component of this object is the optimization algorithm to use. OpenFermion-Cirq includes a wrapper around the the `minimize` method of Scipy's `optimize` module and more optimizers will be included in the future. Let's perform an optimization using the COBYLA method. Since this is just an example, we will set the maximum number of function evaluations to 100 so that it doesn't run too long."
   ]
  },
  {
   "cell_type": "code",
   "execution_count": 3,
   "metadata": {},
   "outputs": [
    {
     "name": "stdout",
     "output_type": "stream",
     "text": [
      "-0.26961328285603825\n"
     ]
    }
   ],
   "source": [
    "# Perform an optimization run.\n",
    "from openfermioncirq.optimization import ScipyOptimizationAlgorithm, OptimizationParams\n",
    "algorithm = ScipyOptimizationAlgorithm(\n",
    "    kwargs={'method': 'COBYLA'},\n",
    "    options={'maxiter': 100},\n",
    "    uses_bounds=False)\n",
    "optimization_params = OptimizationParams(\n",
    "    algorithm=algorithm)\n",
    "result = study.optimize(optimization_params)\n",
    "print(result.optimal_value)"
   ]
  },
  {
   "cell_type": "markdown",
   "metadata": {},
   "source": [
    "In practice, the expectation value of the Hamiltonian cannot be measured exactly due to errors from finite sampling. This manifests as an error, or noise, in the measured value of the energy which can be reduced at the cost of more measurements. The HamiltonianVariationalStudy class incorporates a realistic model of this noise (shot-noise). The OptimizationParams object can have a `cost_of_evaluate` parameter which in this case represents the number of measurements used to estimate the energy for a set of parameters. If we are interested in how well an optimizer performs in the presence of noise, then we may want to repeat the optimization several times and see how the results vary between repetitions.\n",
    "\n",
    "Below, we will perform the same optimization, but this time using the noise model. We will allow one million measurements per energy evaluation and repeat the optimization three times. Since this time the function evaluations are noisy, we'll also indicate that the final parameters of the study should be reevaluated according to a noiseless simulation. Finally, we'll print out a summary of the study, which includes all results obtained so far (including from the previous cell)."
   ]
  },
  {
   "cell_type": "code",
   "execution_count": 4,
   "metadata": {},
   "outputs": [
    {
     "name": "stdout",
     "output_type": "stream",
     "text": [
      "This study contains 2 trial results.\n",
      "The optimal value found among all trial results is -0.26961328285603825.\n",
      "It was found by the run with identifier 0.\n",
      "Result details:\n",
      "    Identifier: 0\n",
      "        Optimal value: -0.26961328285603825\n",
      "        Number of repetitions: 1\n",
      "        Optimal value 1st, 2nd, 3rd quartiles:\n",
      "            [-0.26961328285603825, -0.26961328285603825, -0.26961328285603825]\n",
      "        Num evaluations 1st, 2nd, 3rd quartiles:\n",
      "            [100.0, 100.0, 100.0]\n",
      "        Cost spent 1st, 2nd, 3rd quartiles:\n",
      "            [nan, nan, nan]\n",
      "        Time spent 1st, 2nd, 3rd quartiles:\n",
      "            [0.2808682918548584, 0.2808682918548584, 0.2808682918548584]\n",
      "    Identifier: COBYLA with maxiter=100, noisy\n",
      "        Optimal value: -0.2665280954991992\n",
      "        Number of repetitions: 3\n",
      "        Optimal value 1st, 2nd, 3rd quartiles:\n",
      "            [-0.2660287351547097, -0.2655293748102202, -0.2635610230299597]\n",
      "        Num evaluations 1st, 2nd, 3rd quartiles:\n",
      "            [100.0, 100.0, 100.0]\n",
      "        Cost spent 1st, 2nd, 3rd quartiles:\n",
      "            [nan, nan, nan]\n",
      "        Time spent 1st, 2nd, 3rd quartiles:\n",
      "            [0.2763504981994629, 0.27783823013305664, 0.279117226600647]\n"
     ]
    }
   ],
   "source": [
    "optimization_params = OptimizationParams(\n",
    "    algorithm=algorithm,\n",
    "    cost_of_evaluate=1e6)\n",
    "study.optimize(\n",
    "    optimization_params,\n",
    "    identifier='COBYLA with maxiter=100, noisy',\n",
    "    repetitions=3,\n",
    "    reevaluate_final_params=True,\n",
    "    use_multiprocessing=True)\n",
    "print(study)"
   ]
  },
  {
   "cell_type": "markdown",
   "metadata": {},
   "source": [
    "We see then that in the noisy study the optimizer fails to converge to the final result with high enough accuracy. Apparently then one needs more measurements, a more stable optimizer, or both!"
   ]
  },
  {
   "cell_type": "markdown",
   "metadata": {},
   "source": [
    "### H$_2$ with a custom ansatz"
   ]
  },
  {
   "cell_type": "markdown",
   "metadata": {},
   "source": [
    "The above example shows one of the nice built-in ansatz offered in OpenFermion-Cirq that can be applied to many different types of physical systems without the need for much input by the user.  In some research cases, however, one may wish to design their own paramterized ansatz.  Here will give an example of how to do this for the simple case of the H$_2$ molecule in a minimal basis.\n",
    "\n",
    "To provide some brief background, in a minimal basis H$_2$ is discretized into two slater-type spatial orbitals, each of which is expressed as a sum of 3 Gaussians (STO-3G).  After pre-processing with a mean-field, Hartree-Fock, procedure, the best meanfield approximation of the ground state is found to be the symmetric superposition of these two spatial orbitals.  After including spin in the problem by assigning each spatial orbital an alpha and beta spin, or equivalently the tensor product of the spatial and spin-$1/2$ degree of freedom, the mean-field state is expressed as\n",
    "\\begin{equation}\n",
    "\\vert \\Psi_{\\text{initial}} \\rangle = a^\\dagger_1 a^\\dagger_0 \\vert \\rangle.\n",
    "\\end{equation}\n",
    "\n",
    "Within the Jordan-Wigner encoding of fermionic systems, this is equivalent to a computational basis state with the first two qubits being in the 1 state and the second two qubits in the 0 state.  This can be prepared via a simple circuit as\n",
    "\\begin{equation}\n",
    "| \\Psi_{\\text{initial}} \\rangle = X_1 X_0 \\vert 0 0 0 0 \\rangle = \\vert 1 1 0 0 \\rangle.\n",
    "\\end{equation}\n",
    "\n",
    "As a result of the symmetries present in this system, only one transition is allowed, and it completely characterizes the freedom required to move from this initial guess to the exact ground state solution for all geometries of H$_2$ in the minimal basis.  That is the concerted transitions of electrons from spin-orbitals 0, 1 to 2, 3.  This corresponds to the fermionic operator $a_3^\\dagger a_2^\\dagger a_1 a_0$, which is of course not unitary, but one may lift this operation to the anti-hermitian generator of a rotation as in unitary coupled cluster to yield the unitary\n",
    "\\begin{equation}\n",
    "\\exp \\left[ \\theta \\left(a_3^\\dagger a_2^\\dagger a_1 a_0 - a_0^\\dagger a_1^\\dagger a_2 a_3\\right) \\right]\n",
    "\\end{equation}\n",
    "\n",
    "which may be decomposed exactly using a combination of the Jordan-Wigner transformation and standard identites from Nielsen and Chuang.  However, as has been noted before, the essential action of concerted electron movement can be captured in only a single of the Jordan-Wigner terms, hence the simpler operation\n",
    "\\begin{equation}\n",
    "\\exp \\left[ -i \\theta Y_3 X_2 X_1 X_0 \\right]\n",
    "\\end{equation}\n",
    "suffices.  This is what we use here in combination with standard gate identities to parameterize an ansatz for H$_2$.\n",
    "\n",
    "In the following code we first load up one example geometry of the H$_2$ molecule, as this data is included with OpenFermion. To compute such Hamiltonians for arbitrary molecules in different basis sets geometries, etc., one can use plugins such as [OpenFermion-Psi4](https://github.com/quantumlib/OpenFermion-PySCF) or [OpenFermion-PySCF](https://github.com/quantumlib/OpenFermion-PySCF). Later we will use these same techniques to load and evaluate the full curve with our ansatz."
   ]
  },
  {
   "cell_type": "code",
   "execution_count": 5,
   "metadata": {},
   "outputs": [
    {
     "name": "stdout",
     "output_type": "stream",
     "text": [
      "Bond Length in Angstroms: 0.7414\n",
      "Hartree Fock (mean-field) energy in Hartrees: -1.116684386906734\n",
      "FCI (Exact) energy in Hartrees: -1.137270174625328\n"
     ]
    }
   ],
   "source": [
    "import openfermion\n",
    "\n",
    "diatomic_bond_length = .7414\n",
    "geometry = [('H', (0., 0., 0.)), \n",
    "            ('H', (0., 0., diatomic_bond_length))]\n",
    "basis = 'sto-3g'\n",
    "multiplicity = 1\n",
    "charge = 0\n",
    "description = format(diatomic_bond_length)\n",
    "\n",
    "molecule = openfermion.MolecularData(\n",
    "    geometry,\n",
    "    basis,\n",
    "    multiplicity,\n",
    "    description=description)\n",
    "molecule.load()\n",
    "\n",
    "hamiltonian = molecule.get_molecular_hamiltonian()\n",
    "print(\"Bond Length in Angstroms: {}\".format(diatomic_bond_length))\n",
    "print(\"Hartree Fock (mean-field) energy in Hartrees: {}\".format(molecule.hf_energy))\n",
    "print(\"FCI (Exact) energy in Hartrees: {}\".format(molecule.fci_energy))"
   ]
  },
  {
   "cell_type": "markdown",
   "metadata": {},
   "source": [
    "Now we design a custom ansatz with a single parameter based on the simplfied unitary above.  The ansatz class makes convenient use of named parameters which are specified by the params routine.  The parameterized circuit then makes use of these parameters within its operations method."
   ]
  },
  {
   "cell_type": "code",
   "execution_count": 6,
   "metadata": {},
   "outputs": [],
   "source": [
    "import cirq\n",
    "import openfermioncirq\n",
    "import sympy\n",
    "\n",
    "class MyAnsatz(openfermioncirq.VariationalAnsatz):\n",
    "    \n",
    "    def params(self):\n",
    "        \"\"\"The parameters of the ansatz.\"\"\"\n",
    "        return [sympy.Symbol('theta_0')]\n",
    "    \n",
    "    def operations(self, qubits):\n",
    "        \"\"\"Produce the operations of the ansatz circuit.\"\"\"\n",
    "        q0, q1, q2, q3 = qubits\n",
    "        yield cirq.H(q0), cirq.H(q1), cirq.H(q2)\n",
    "        yield cirq.XPowGate(exponent=-0.5).on(q3)\n",
    "        \n",
    "        yield cirq.CNOT(q0, q1), cirq.CNOT(q1, q2), cirq.CNOT(q2, q3)\n",
    "        yield cirq.ZPowGate(exponent=sympy.Symbol('theta_0')).on(q3)\n",
    "        yield cirq.CNOT(q2, q3), cirq.CNOT(q1, q2), cirq.CNOT(q0, q1)\n",
    "        \n",
    "        yield cirq.H(q0), cirq.H(q1), cirq.H(q2)\n",
    "        yield cirq.XPowGate(exponent=0.5).on(q3)\n",
    "\n",
    "    def _generate_qubits(self):\n",
    "        \"\"\"Produce qubits that can be used by the ansatz circuit.\"\"\"\n",
    "        return cirq.LineQubit.range(4)"
   ]
  },
  {
   "cell_type": "markdown",
   "metadata": {},
   "source": [
    "After this custom ansatz is designed, we can instantiate it and package it into a variational study class along with an initial state preparation cirucit that makes it more convenient to study parts of an ansatz.  In this case our initial state is the doubly occupied computational basis state mentioned above."
   ]
  },
  {
   "cell_type": "code",
   "execution_count": 7,
   "metadata": {},
   "outputs": [
    {
     "name": "stdout",
     "output_type": "stream",
     "text": [
      "0: ───X───H────────@───────────────────────────────────@───H───\n",
      "                   │                                   │\n",
      "1: ───X───H────────X───@───────────────────────@───────X───H───\n",
      "                       │                       │\n",
      "2: ───────H────────────X───@───────────────@───X───────H───────\n",
      "                           │               │\n",
      "3: ───────X^-0.5───────────X───Z^theta_0───X───X^0.5───────────\n"
     ]
    }
   ],
   "source": [
    "ansatz = MyAnsatz()\n",
    "objective = openfermioncirq.HamiltonianObjective(hamiltonian)\n",
    "q0, q1, _, _ = ansatz.qubits\n",
    "preparation_circuit = cirq.Circuit.from_ops(\n",
    "    cirq.X(q0),\n",
    "    cirq.X(q1))\n",
    "study = openfermioncirq.VariationalStudy(\n",
    "    name='my_hydrogen_study',\n",
    "    ansatz=ansatz,\n",
    "    objective=objective,\n",
    "    preparation_circuit=preparation_circuit)\n",
    "print(study.circuit)"
   ]
  },
  {
   "cell_type": "markdown",
   "metadata": {},
   "source": [
    "With this this paramterized circuit and state preparation packaged into a variational study, it is now straightfoward to attach an optimizer and find the optimal value as was done in the example above.  Note that we can also set an initial guess for the angle as determined by any number of methods, and we demonstrate this here.  Note that as the built-in simulator for Cirq is based on single precision, the solution may appear sub-variational past this precision due to round off errors that accumlate, however it is far below the accuracy one is typically concerned with for this type of problem."
   ]
  },
  {
   "cell_type": "code",
   "execution_count": 8,
   "metadata": {},
   "outputs": [
    {
     "name": "stdout",
     "output_type": "stream",
     "text": [
      "Initial state energy in Hartrees: -1.116684386906734\n",
      "Optimized energy result in Hartree: -1.1372701552464972\n",
      "Exact energy result in Hartees for reference: -1.137270174625328\n"
     ]
    }
   ],
   "source": [
    "# Perform optimization.\n",
    "import numpy\n",
    "from openfermioncirq.optimization import COBYLA, OptimizationParams\n",
    "optimization_params = OptimizationParams(\n",
    "    algorithm=COBYLA,\n",
    "    initial_guess=[0.01])\n",
    "result = study.optimize(optimization_params)\n",
    "print(\"Initial state energy in Hartrees: {}\".format(molecule.hf_energy))\n",
    "print(\"Optimized energy result in Hartree: {}\".format(result.optimal_value))\n",
    "print(\"Exact energy result in Hartees for reference: {}\".format(molecule.fci_energy))"
   ]
  },
  {
   "cell_type": "markdown",
   "metadata": {},
   "source": [
    "Using this same circuit and approach, we can now build a curve for the length of the H$_2$ molecule and plot it in the following way. Note that running the code in the cell above is required for this example."
   ]
  },
  {
   "cell_type": "code",
   "execution_count": 9,
   "metadata": {},
   "outputs": [
    {
     "name": "stdout",
     "output_type": "stream",
     "text": [
      "R=0.3\t Optimized Energy: -0.6018035675227398\n",
      "R=0.4\t Optimized Energy: -0.914149640922879\n",
      "R=0.5\t Optimized Energy: -1.055159752249402\n",
      "R=0.6\t Optimized Energy: -1.1162859519518373\n",
      "R=0.7\t Optimized Energy: -1.1361894270929198\n",
      "R=0.8\t Optimized Energy: -1.1341476185091994\n",
      "R=0.9\t Optimized Energy: -1.12056023226178\n",
      "R=1.0\t Optimized Energy: -1.1011503067765513\n",
      "R=1.1\t Optimized Energy: -1.079192927373109\n",
      "R=1.2\t Optimized Energy: -1.0567407114641352\n",
      "R=1.3\t Optimized Energy: -1.035186257867059\n",
      "R=1.4\t Optimized Energy: -1.0154682205293877\n",
      "R=1.5\t Optimized Energy: -0.9981493419143923\n",
      "R=1.6\t Optimized Energy: -0.9834727107045588\n",
      "R=1.7\t Optimized Energy: -0.9714266833873014\n",
      "R=1.8\t Optimized Energy: -0.9618169299971955\n",
      "R=1.9\t Optimized Energy: -0.9543388245412123\n",
      "R=2.0\t Optimized Energy: -0.9486410987128432\n",
      "R=2.1\t Optimized Energy: -0.9443746746029322\n",
      "R=2.2\t Optimized Energy: -0.9412240092714697\n",
      "R=2.3\t Optimized Energy: -0.9389223694773262\n",
      "R=2.4\t Optimized Energy: -0.9372549459930383\n",
      "R=2.5\t Optimized Energy: -0.9360549176573433\n"
     ]
    }
   ],
   "source": [
    "bond_lengths = ['{0:.1f}'.format(0.3 + 0.1 * x) for x in range(23)]\n",
    "hartree_fock_energies = []\n",
    "optimized_energies = []\n",
    "exact_energies = []\n",
    "\n",
    "for diatomic_bond_length in bond_lengths:\n",
    "    geometry = [('H', (0., 0., 0.)), \n",
    "                ('H', (0., 0., diatomic_bond_length))]\n",
    "\n",
    "    description = format(diatomic_bond_length)\n",
    "\n",
    "    molecule = openfermion.MolecularData(geometry, basis,\n",
    "                                         multiplicity, description=description)\n",
    "    molecule.load()\n",
    "    hamiltonian = molecule.get_molecular_hamiltonian()\n",
    "    \n",
    "    study = openfermioncirq.VariationalStudy(\n",
    "        name='my_hydrogen_study',\n",
    "        ansatz=ansatz,\n",
    "        objective=openfermioncirq.HamiltonianObjective(hamiltonian),\n",
    "        preparation_circuit=preparation_circuit)\n",
    "    \n",
    "    result = study.optimize(optimization_params)\n",
    "    hartree_fock_energies.append(molecule.hf_energy)\n",
    "    optimized_energies.append(result.optimal_value)\n",
    "    exact_energies.append(molecule.fci_energy)\n",
    "    \n",
    "    print(\"R={}\\t Optimized Energy: {}\".format(diatomic_bond_length, result.optimal_value))"
   ]
  },
  {
   "cell_type": "markdown",
   "metadata": {},
   "source": [
    "Now that we've collected that data, we can easily visualize it with standard matplotlib routines"
   ]
  },
  {
   "cell_type": "code",
   "execution_count": 10,
   "metadata": {},
   "outputs": [
    {
     "data": {
      "image/png": "[encoded data removed]",
      "text/plain": [
       "<Figure size 720x504 with 1 Axes>"
      ]
     },
     "metadata": {
      "needs_background": "light"
     },
     "output_type": "display_data"
    }
   ],
   "source": [
    "import matplotlib\n",
    "import matplotlib.pyplot as pyplot\n",
    "%matplotlib inline\n",
    "\n",
    "# Plot the energy mean and std Dev\n",
    "fig = pyplot.figure(figsize=(10,7))\n",
    "bkcolor = '#ffffff'\n",
    "ax = fig.add_subplot(1, 1, 1)\n",
    "pyplot.subplots_adjust(left=.2)\n",
    "ax.set_xlabel('R (Angstroms)')\n",
    "ax.set_ylabel(r'E Hartrees')\n",
    "ax.set_title(r'H$_2$ bond dissociation curve')\n",
    "ax.spines['right'].set_visible(False)\n",
    "ax.spines['top'].set_visible(False)\n",
    "bond_lengths = [float(x) for x in bond_lengths]\n",
    "ax.plot(bond_lengths, hartree_fock_energies, label='Hartree-Fock')\n",
    "ax.plot(bond_lengths, optimized_energies, '*', label='Optimized')\n",
    "ax.plot(bond_lengths, exact_energies, '--', label='Exact')\n",
    "\n",
    "ax.legend(frameon=False)\n",
    "pyplot.show()"
   ]
  }
 ],
 "metadata": {
  "kernelspec": {
   "display_name": "Python 3",
   "language": "python",
   "name": "python3"
  },
  "language_info": {
   "codemirror_mode": {
    "name": "ipython",
    "version": 3
   },
   "file_extension": ".py",
   "mimetype": "text/x-python",
   "name": "python",
   "nbconvert_exporter": "python",
   "pygments_lexer": "ipython3",
   "version": "3.5.3"
  }
 },
 "nbformat": 4,
 "nbformat_minor": 2
}
